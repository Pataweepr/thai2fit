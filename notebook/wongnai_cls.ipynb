{
 "cells": [
  {
   "cell_type": "markdown",
   "metadata": {},
   "source": [
    "# LSTM Thai2Fit Classification\n",
    "\n",
    "This notebook demonstrates how to use the [ULMFit model](https://arxiv.org/abs/1801.06146) implemented by`thai2fit` for text classification. We use [Wongnai Challenge: Review Rating Prediction](https://www.kaggle.com/c/wongnai-challenge-review-rating-prediction) as our benchmark as it is the only sizeable and publicly available text classification dataset at the time of writing (June 21, 2018). It has 39,999 reviews for training and validation, and 6,203 reviews for testing. Our workflow is as follows:\n",
    "\n",
    "* Perform 85/15 train-validation split\n",
    "* Minimal text cleaning and tokenization using `newmm` engine of `pyThaiNLP`\n",
    "* Get embeddings of Wongnai dataset from all the data available (train and test sets)\n",
    "* Load pretrained Thai Wikipedia embeddings; for those embeddings which exist only in Wongnai dataset, we use the average of Wikipedia embeddings instead\n",
    "* Train language model based on all the data available on Wongnai dataset\n",
    "* Replace the top and train the classifier based on the training set by gradual unfreezing\n",
    "\n",
    "We achieved validation perplexity at 35.75113 and validation micro F1 score at 0.598 for five-label classification. Micro F1 scores for public and private leaderboards are 0.61451 and 0.60925 respectively (supposedly we could train further with the 15% validation set we did not use), which are state-of-the-art as of the time of writing (June 21, 2018). FastText benchmark has the performance of 0.50483 and 0.49366 for public and private leaderboards respectively."
   ]
  },
  {
   "cell_type": "markdown",
   "metadata": {},
   "source": [
    "![alt text](https://github.com/cstorm125/thai2fit/blob/master/images/submission.jpg?raw=true)"
   ]
  },
  {
   "cell_type": "markdown",
   "metadata": {},
   "source": [
    "![alt text](https://github.com/cstorm125/thai2fit/blob/master/images/leaderboard.png?raw=true)"
   ]
  },
  {
   "cell_type": "markdown",
   "metadata": {},
   "source": [
    "## Imports"
   ]
  },
  {
   "cell_type": "code",
   "execution_count": 3,
   "metadata": {},
   "outputs": [],
   "source": [
    "%reload_ext autoreload\n",
    "%autoreload 2\n",
    "%matplotlib inline\n",
    "\n",
    "import numpy as np\n",
    "import pandas as pd\n",
    "import dill as pickle\n",
    "from collections import Counter\n",
    "from pathlib import Path\n",
    "from sklearn.model_selection import train_test_split\n",
    "\n",
    "\n",
    "from fastai.text import *\n",
    "from fastai import *\n",
    "import fastai\n",
    "from pythainlp.ulmfit import *\n",
    "import pythainlp\n",
    "\n",
    "\n",
    "DATA_PATH='../wongnai_data/'\n",
    "RAW_PATH = f'{DATA_PATH}raw/'\n",
    "MODEL_PATH = f'{DATA_PATH}models/'\n",
    "\n",
    "raw_files = !ls {RAW_PATH}"
   ]
  },
  {
   "cell_type": "markdown",
   "metadata": {},
   "source": [
    "## Train/Validation Sets\n",
    "\n",
    "We use data from [Wongnai Challenge: Review Rating Prediction](https://www.kaggle.com/c/wongnai-challenge-review-rating-prediction). The training data consists of 39,999 restaurant reviews from unknown number of reviewers labeled one to five stars, with the schema `(label,review)`. We use 85/15 train-validation split. The test set has 6,203 reviews from the same number of reviewers. No information accuracy is 46.9%."
   ]
  },
  {
   "cell_type": "code",
   "execution_count": 4,
   "metadata": {},
   "outputs": [],
   "source": [
    "raw_train = pd.read_csv(f'{RAW_PATH}w_review_train.csv',sep=';',header=None)\n",
    "raw_train = raw_train.iloc[:,[1,0]]\n",
    "raw_train.columns = ['label','review']\n",
    "raw_test = pd.read_csv(f'{RAW_PATH}test_file.csv',sep=';')\n",
    "submission =  pd.read_csv(f'{RAW_PATH}sample_submission.csv',sep=',')"
   ]
  },
  {
   "cell_type": "code",
   "execution_count": 5,
   "metadata": {},
   "outputs": [
    {
     "name": "stdout",
     "output_type": "stream",
     "text": [
      "(40000, 2)\n"
     ]
    },
    {
     "data": {
      "text/html": [
       "<div>\n",
       "<style scoped>\n",
       "    .dataframe tbody tr th:only-of-type {\n",
       "        vertical-align: middle;\n",
       "    }\n",
       "\n",
       "    .dataframe tbody tr th {\n",
       "        vertical-align: top;\n",
       "    }\n",
       "\n",
       "    .dataframe thead th {\n",
       "        text-align: right;\n",
       "    }\n",
       "</style>\n",
       "<table border=\"1\" class=\"dataframe\">\n",
       "  <thead>\n",
       "    <tr style=\"text-align: right;\">\n",
       "      <th></th>\n",
       "      <th>label</th>\n",
       "      <th>review</th>\n",
       "    </tr>\n",
       "  </thead>\n",
       "  <tbody>\n",
       "    <tr>\n",
       "      <th>0</th>\n",
       "      <td>3</td>\n",
       "      <td>ร้านอาหารใหญ่มากกกกกกก \\nเลี้ยวเข้ามาเจอห้องน้...</td>\n",
       "    </tr>\n",
       "    <tr>\n",
       "      <th>1</th>\n",
       "      <td>4</td>\n",
       "      <td>อาหารที่นี่เป็นอาหารจีนแคะที่หากินยากในบ้านเรา...</td>\n",
       "    </tr>\n",
       "    <tr>\n",
       "      <th>2</th>\n",
       "      <td>3</td>\n",
       "      <td>ปอเปี๊ยะสด ทุกวันนี้รู้สึกว่าหากินยาก (ร้านที่...</td>\n",
       "    </tr>\n",
       "    <tr>\n",
       "      <th>3</th>\n",
       "      <td>5</td>\n",
       "      <td>รัานคัพเค้กในเมืองไทยมีไม่มาก หลายๆคนอาจจะสงสั...</td>\n",
       "    </tr>\n",
       "    <tr>\n",
       "      <th>4</th>\n",
       "      <td>5</td>\n",
       "      <td>อร่อย!!! เดินผ่านDigital gatewayทุกวัน ไม่ยักร...</td>\n",
       "    </tr>\n",
       "  </tbody>\n",
       "</table>\n",
       "</div>"
      ],
      "text/plain": [
       "   label                                             review\n",
       "0      3  ร้านอาหารใหญ่มากกกกกกก \\nเลี้ยวเข้ามาเจอห้องน้...\n",
       "1      4  อาหารที่นี่เป็นอาหารจีนแคะที่หากินยากในบ้านเรา...\n",
       "2      3  ปอเปี๊ยะสด ทุกวันนี้รู้สึกว่าหากินยาก (ร้านที่...\n",
       "3      5  รัานคัพเค้กในเมืองไทยมีไม่มาก หลายๆคนอาจจะสงสั...\n",
       "4      5  อร่อย!!! เดินผ่านDigital gatewayทุกวัน ไม่ยักร..."
      ]
     },
     "execution_count": 5,
     "metadata": {},
     "output_type": "execute_result"
    }
   ],
   "source": [
    "print(raw_train.shape)\n",
    "raw_train.head()"
   ]
  },
  {
   "cell_type": "code",
   "execution_count": 6,
   "metadata": {},
   "outputs": [
    {
     "data": {
      "text/plain": [
       "Counter({3: 12171, 4: 18770, 5: 6799, 2: 1845, 1: 415})"
      ]
     },
     "execution_count": 6,
     "metadata": {},
     "output_type": "execute_result"
    }
   ],
   "source": [
    "cnt = Counter(raw_train['label'])\n",
    "cnt"
   ]
  },
  {
   "cell_type": "code",
   "execution_count": 7,
   "metadata": {},
   "outputs": [
    {
     "data": {
      "text/plain": [
       "0.46925"
      ]
     },
     "execution_count": 7,
     "metadata": {},
     "output_type": "execute_result"
    }
   ],
   "source": [
    "#baseline\n",
    "cnt.most_common(1)[0][1] / raw_train.shape[0]"
   ]
  },
  {
   "cell_type": "code",
   "execution_count": 8,
   "metadata": {},
   "outputs": [
    {
     "data": {
      "text/html": [
       "<div>\n",
       "<style scoped>\n",
       "    .dataframe tbody tr th:only-of-type {\n",
       "        vertical-align: middle;\n",
       "    }\n",
       "\n",
       "    .dataframe tbody tr th {\n",
       "        vertical-align: top;\n",
       "    }\n",
       "\n",
       "    .dataframe thead th {\n",
       "        text-align: right;\n",
       "    }\n",
       "</style>\n",
       "<table border=\"1\" class=\"dataframe\">\n",
       "  <thead>\n",
       "    <tr style=\"text-align: right;\">\n",
       "      <th></th>\n",
       "      <th>reviewID</th>\n",
       "      <th>review</th>\n",
       "    </tr>\n",
       "  </thead>\n",
       "  <tbody>\n",
       "    <tr>\n",
       "      <th>0</th>\n",
       "      <td>1</td>\n",
       "      <td>ร้านนี้จะอยู่เส้นสันกำแพง-แม่ออน เลยแยกบ่...</td>\n",
       "    </tr>\n",
       "    <tr>\n",
       "      <th>1</th>\n",
       "      <td>2</td>\n",
       "      <td>สั่งไป2 เมนู คือมัชฉะลาเต้ร้อน กับ ไอศครีมชาเข...</td>\n",
       "    </tr>\n",
       "    <tr>\n",
       "      <th>2</th>\n",
       "      <td>3</td>\n",
       "      <td>ครัววงเดือน  \\n\\nหิวดึกๆ ตระเวนหาร้านทาน มาเจอ...</td>\n",
       "    </tr>\n",
       "    <tr>\n",
       "      <th>3</th>\n",
       "      <td>4</td>\n",
       "      <td>จะว่าเป็นเจ้าประจำก็คงไม่ผิด แต่ก็ไม่กล้า...</td>\n",
       "    </tr>\n",
       "    <tr>\n",
       "      <th>4</th>\n",
       "      <td>5</td>\n",
       "      <td>ถ้าคิดถึงสลัดผมคิดถึงร้านนี้เป็นร้านแรกๆเลยครั...</td>\n",
       "    </tr>\n",
       "  </tbody>\n",
       "</table>\n",
       "</div>"
      ],
      "text/plain": [
       "   reviewID                                             review\n",
       "0         1       ร้านนี้จะอยู่เส้นสันกำแพง-แม่ออน เลยแยกบ่...\n",
       "1         2  สั่งไป2 เมนู คือมัชฉะลาเต้ร้อน กับ ไอศครีมชาเข...\n",
       "2         3  ครัววงเดือน  \\n\\nหิวดึกๆ ตระเวนหาร้านทาน มาเจอ...\n",
       "3         4       จะว่าเป็นเจ้าประจำก็คงไม่ผิด แต่ก็ไม่กล้า...\n",
       "4         5  ถ้าคิดถึงสลัดผมคิดถึงร้านนี้เป็นร้านแรกๆเลยครั..."
      ]
     },
     "execution_count": 8,
     "metadata": {},
     "output_type": "execute_result"
    }
   ],
   "source": [
    "raw_test.head()"
   ]
  },
  {
   "cell_type": "code",
   "execution_count": 9,
   "metadata": {},
   "outputs": [
    {
     "data": {
      "text/html": [
       "<div>\n",
       "<style scoped>\n",
       "    .dataframe tbody tr th:only-of-type {\n",
       "        vertical-align: middle;\n",
       "    }\n",
       "\n",
       "    .dataframe tbody tr th {\n",
       "        vertical-align: top;\n",
       "    }\n",
       "\n",
       "    .dataframe thead th {\n",
       "        text-align: right;\n",
       "    }\n",
       "</style>\n",
       "<table border=\"1\" class=\"dataframe\">\n",
       "  <thead>\n",
       "    <tr style=\"text-align: right;\">\n",
       "      <th></th>\n",
       "      <th>reviewID</th>\n",
       "      <th>rating</th>\n",
       "    </tr>\n",
       "  </thead>\n",
       "  <tbody>\n",
       "    <tr>\n",
       "      <th>0</th>\n",
       "      <td>1</td>\n",
       "      <td>4</td>\n",
       "    </tr>\n",
       "    <tr>\n",
       "      <th>1</th>\n",
       "      <td>2</td>\n",
       "      <td>3</td>\n",
       "    </tr>\n",
       "    <tr>\n",
       "      <th>2</th>\n",
       "      <td>3</td>\n",
       "      <td>3</td>\n",
       "    </tr>\n",
       "    <tr>\n",
       "      <th>3</th>\n",
       "      <td>4</td>\n",
       "      <td>4</td>\n",
       "    </tr>\n",
       "  </tbody>\n",
       "</table>\n",
       "</div>"
      ],
      "text/plain": [
       "   reviewID  rating\n",
       "0         1       4\n",
       "1         2       3\n",
       "2         3       3\n",
       "3         4       4"
      ]
     },
     "execution_count": 9,
     "metadata": {},
     "output_type": "execute_result"
    }
   ],
   "source": [
    "submission.head()"
   ]
  },
  {
   "cell_type": "code",
   "execution_count": 10,
   "metadata": {},
   "outputs": [],
   "source": [
    "#test df\n",
    "raw_test = pd.read_csv(f'{RAW_PATH}test_file.csv',sep=';')\n",
    "df_tst = pd.DataFrame({'label':raw_test['reviewID'],'review':raw_test['review']})\n",
    "df_tst.to_csv(f'{DATA_PATH}test.csv', header=False, index=False)"
   ]
  },
  {
   "cell_type": "code",
   "execution_count": 11,
   "metadata": {},
   "outputs": [],
   "source": [
    "#train/validation/train_language_model split for fastText validation\n",
    "df_trn, df_val = train_test_split(raw_train, test_size = 0.15, random_state = 1412)\n",
    "\n",
    "df_trn.to_csv(f'{DATA_PATH}train.csv', header=False, index=False)\n",
    "df_val.to_csv(f'{DATA_PATH}valid.csv', header=False, index=False)"
   ]
  },
  {
   "cell_type": "code",
   "execution_count": 12,
   "metadata": {},
   "outputs": [],
   "source": [
    "#combine train and validation for our classification and use everything for our language modeling\n",
    "df_lm = pd.concat([df_trn,df_val,df_tst])\n",
    "df_trn.to_csv(f'{DATA_PATH}train.csv', header=False, index=False)\n",
    "df_lm.to_csv(f'{DATA_PATH}train_lm.csv', header=False, index=False)"
   ]
  },
  {
   "cell_type": "code",
   "execution_count": 13,
   "metadata": {},
   "outputs": [
    {
     "data": {
      "text/plain": [
       "((34000, 2), (6000, 2), (46203, 2))"
      ]
     },
     "execution_count": 13,
     "metadata": {},
     "output_type": "execute_result"
    }
   ],
   "source": [
    "df_trn.shape,df_val.shape,df_lm.shape"
   ]
  },
  {
   "cell_type": "markdown",
   "metadata": {},
   "source": [
    "## Language Modeling"
   ]
  },
  {
   "cell_type": "markdown",
   "metadata": {},
   "source": [
    "### Text Processing"
   ]
  },
  {
   "cell_type": "markdown",
   "metadata": {},
   "source": [
    "We first determine the vocab for the reviews, then train a language model based on our training set. We perform the following  text processing:\n",
    "\n",
    "* Fix html tags to plain texts\n",
    "* Lowercase all English words and if a word is written in all caps, we put it in a lower case and add `xxup` before\n",
    "* Repetitive characters: Thai usually emphasizes adjectives by repeating the last character such as `อร่อยมากกกกกกก` to `อร่อยมาก xxrep 7 ` so that the word still retains its original form. \n",
    "* Normalize character order: for instance `นำ้` to `น้ำ`\n",
    "* Add spaces around / and #\n",
    "* Remove multiple spaces and newlines\n",
    "* Remove empty brackets of all types (`([{`) which might result from cleaning up\n",
    "* `pyThaiNLP`'s `newmm` word tokenizer with frozen dictionary (`engine ='ulmfit'`)  is used to tokenize the texts."
   ]
  },
  {
   "cell_type": "code",
   "execution_count": 19,
   "metadata": {},
   "outputs": [],
   "source": [
    "# tt = Tokenizer(tok_func = ThaiTokenizer, lang = 'th', rules = thai_rules)\n",
    "# data_lm = TextLMDataBunch.from_csv(path = Path(DATA_PATH),csv_name='train_lm.csv',valid_pct=0.1,\n",
    "#                                   tokenizer=tt, vocab = None)\n",
    "# data_lm.save('sent_lm')\n",
    "# data_lm.save('lm_db')"
   ]
  },
  {
   "cell_type": "code",
   "execution_count": 17,
   "metadata": {},
   "outputs": [],
   "source": [
    "data_lm = TextLMDataBunch.load(DATA_PATH,'lm_db',bs=64)"
   ]
  },
  {
   "cell_type": "code",
   "execution_count": 18,
   "metadata": {},
   "outputs": [
    {
     "data": {
      "text/plain": [
       "21749"
      ]
     },
     "execution_count": 18,
     "metadata": {},
     "output_type": "execute_result"
    }
   ],
   "source": [
    "len(data_lm.vocab.itos)"
   ]
  },
  {
   "cell_type": "code",
   "execution_count": 19,
   "metadata": {},
   "outputs": [
    {
     "data": {
      "text/plain": [
       "(4620, 41582)"
      ]
     },
     "execution_count": 19,
     "metadata": {},
     "output_type": "execute_result"
    }
   ],
   "source": [
    "len(data_lm.valid_ds), len(data_lm.train_ds)"
   ]
  },
  {
   "cell_type": "markdown",
   "metadata": {},
   "source": [
    "### Load Pretrained Language Model"
   ]
  },
  {
   "cell_type": "markdown",
   "metadata": {},
   "source": [
    "Instead of starting from random weights, we import the language model pretrained on Wikipedia (see `pretrained_wiki.ipynb`). For words that appear only in the Wongnai dataset but not Wikipedia, we start with the average of all embeddings instead. Max vocab size is set at 60,000 and minimum frequency of 2 consistent with the pretrained model."
   ]
  },
  {
   "cell_type": "code",
   "execution_count": 16,
   "metadata": {},
   "outputs": [
    {
     "data": {
      "text/plain": [
       "(torch.Size([21749, 300]), 18)"
      ]
     },
     "execution_count": 16,
     "metadata": {},
     "output_type": "execute_result"
    }
   ],
   "source": [
    "model_path,itos_path = pythainlp.ulmfit._THWIKI_LSTM\n",
    "wgts = torch.load(f'{MODEL_PATH}thwiki_model_lstm.pth', map_location=lambda storage, loc: storage)\n",
    "itos_lstm = pickle.load(open(f'{MODEL_PATH}itos_lstm.pkl','rb'))\n",
    "wgts = merge_wgts(300, wgts, itos_lstm, data_lm.vocab.itos)\n",
    "wgts['0.encoder.weight'].shape, len(wgts.keys())"
   ]
  },
  {
   "cell_type": "markdown",
   "metadata": {},
   "source": [
    "### Train Domain-Specific Language Model"
   ]
  },
  {
   "cell_type": "code",
   "execution_count": 17,
   "metadata": {},
   "outputs": [],
   "source": [
    "#heuristic reference from imdb_scripts\n",
    "learn = language_model_learner(data_lm, bptt = 70, emb_sz = 300, nh = 1150, nl = 3,\n",
    "                                  drop_mult = 0.7, bias = False, qrnn = False, \n",
    "                                  alpha=2, beta = 1,\n",
    "                                  pretrained_fnames = None)\n",
    "learn.metrics = [accuracy]\n",
    "learn.opt_func = partial(optim.Adam, betas=(0.8, 0.99))\n",
    "learn.wd = 1e-7\n",
    "#VERY IMPORTANT TO LOAD PRETRAINED WEIGHTS\n",
    "learn.model.load_state_dict(wgts)"
   ]
  },
  {
   "cell_type": "code",
   "execution_count": 18,
   "metadata": {},
   "outputs": [
    {
     "name": "stdout",
     "output_type": "stream",
     "text": [
      "LR Finder is complete, type {learner_name}.recorder.plot() to see the graph.\n"
     ]
    },
    {
     "data": {
      "image/png": "[encoded data removed]",
      "text/plain": [
       "<Figure size 432x288 with 1 Axes>"
      ]
     },
     "metadata": {},
     "output_type": "display_data"
    }
   ],
   "source": [
    "learn.lr_find(start_lr = 1e-2, end_lr=1)\n",
    "learn.recorder.plot()"
   ]
  },
  {
   "cell_type": "code",
   "execution_count": 21,
   "metadata": {},
   "outputs": [],
   "source": [
    "#optimal learning rate and wd\n",
    "lr = 1e-3\n",
    "wd = 1e-7\n",
    "learn.freeze()"
   ]
  },
  {
   "cell_type": "code",
   "execution_count": 1,
   "metadata": {},
   "outputs": [],
   "source": [
    "#train frozen to warm up\n",
    "learn.fit_one_cycle(cyc_len = 1, \n",
    "                    max_lr= lr, #learning rate\n",
    "                    div_factor=20, #factor to discount from max\n",
    "                    moms = (0.8, 0.7), #momentums\n",
    "                    pct_start = 0.5, #where the peak is at \n",
    "                    wd = wd #weight decay\n",
    "                   ) "
   ]
  },
  {
   "cell_type": "raw",
   "metadata": {},
   "source": [
    "epoch      trn_loss   val_loss   accuracy   \n",
    "    0      4.511123   4.282623   0.273628 "
   ]
  },
  {
   "cell_type": "code",
   "execution_count": 50,
   "metadata": {},
   "outputs": [],
   "source": [
    "#train unfrozen\n",
    "learn.unfreeze()\n",
    "learn.fit_one_cycle(cyc_len = 5, \n",
    "                    max_lr= lr, #learning rate\n",
    "                    div_factor=20, #factor to discount from max\n",
    "                    moms = (0.8, 0.7), #momentums\n",
    "                    pct_start = 0.5, #where the peak is at \n",
    "                    wd = wd #weight decay\n",
    "                   ) "
   ]
  },
  {
   "cell_type": "raw",
   "metadata": {},
   "source": [
    "epoch      trn_loss   val_loss   accuracy   \n",
    "    0      4.095722   3.914765   0.308273  \n",
    "    1      3.879626   3.747322   0.323322  \n",
    "    2      3.732741   3.659595   0.332689  \n",
    "    3      3.619128   3.607434   0.33802   \n",
    "    4      3.536444   3.576582   0.341772  "
   ]
  },
  {
   "cell_type": "code",
   "execution_count": 35,
   "metadata": {},
   "outputs": [],
   "source": [
    "# learn.recorder.plot_losses()\n",
    "# learn.save('wongnai_lm_lstm')\n",
    "# learn.save_encoder('wongnai_enc_lstm')"
   ]
  },
  {
   "cell_type": "markdown",
   "metadata": {},
   "source": [
    "## Classification"
   ]
  },
  {
   "cell_type": "markdown",
   "metadata": {},
   "source": [
    "With the language model trained on Wongnai dataset, we use its embeddings to initialize the review classifier. We train the classifier using discriminative learning rates, slanted triangular learning rates, gradual unfreezing and a few other tricks detailed in the [ULMFit paper](https://arxiv.org/abs/1801.06146). We have found that training only the last two layers of the model seems to be the right balance for this dataset."
   ]
  },
  {
   "cell_type": "markdown",
   "metadata": {},
   "source": [
    "### Data Bunch"
   ]
  },
  {
   "cell_type": "markdown",
   "metadata": {},
   "source": [
    "Create another data bunch this time for classification, using the same vocab as the our finetuned language model."
   ]
  },
  {
   "cell_type": "code",
   "execution_count": 18,
   "metadata": {},
   "outputs": [],
   "source": [
    "# tt = Tokenizer(tok_func = ThaiTokenizer, lang = 'th', rules = thai_rules)\n",
    "# data_clas = TextClasDataBunch.from_df(path=Path(DATA_PATH), train_df=df_trn, valid_df=df_trn, \n",
    "#                  test_df = df_tst, tokenizer=tt, vocab=data_lm.vocab)\n",
    "# data_clas.save('clas_db')"
   ]
  },
  {
   "cell_type": "code",
   "execution_count": 24,
   "metadata": {},
   "outputs": [],
   "source": [
    "data_clas = TextClasDataBunch.load(DATA_PATH,'clas_db',bs=64)"
   ]
  },
  {
   "cell_type": "code",
   "execution_count": 25,
   "metadata": {},
   "outputs": [
    {
     "data": {
      "text/plain": [
       "[4, 3, 2, 5, 1]"
      ]
     },
     "execution_count": 25,
     "metadata": {},
     "output_type": "execute_result"
    }
   ],
   "source": [
    "data_clas.train_ds.y.classes"
   ]
  },
  {
   "cell_type": "code",
   "execution_count": 26,
   "metadata": {},
   "outputs": [
    {
     "data": {
      "text/plain": [
       "True"
      ]
     },
     "execution_count": 26,
     "metadata": {},
     "output_type": "execute_result"
    }
   ],
   "source": [
    "#check if using right vocab\n",
    "len(data_clas.vocab.itos)==len(data_lm.vocab.itos)"
   ]
  },
  {
   "cell_type": "code",
   "execution_count": 27,
   "metadata": {},
   "outputs": [
    {
     "data": {
      "text/plain": [
       "21749"
      ]
     },
     "execution_count": 27,
     "metadata": {},
     "output_type": "execute_result"
    }
   ],
   "source": [
    "len(data_clas.vocab.itos)"
   ]
  },
  {
   "cell_type": "markdown",
   "metadata": {},
   "source": [
    "### Model"
   ]
  },
  {
   "cell_type": "markdown",
   "metadata": {},
   "source": [
    "We create a text classifier by combining our finetuned encoder with a linear model."
   ]
  },
  {
   "cell_type": "code",
   "execution_count": 30,
   "metadata": {},
   "outputs": [],
   "source": [
    "#heuristic reference from imdb_scripts\n",
    "learn = text_classifier_learner(data_clas, bptt = 70, emb_sz = 300, nh = 1150, nl = 3,\n",
    "                                  drop_mult = 0.5, clip=25.,\n",
    "                                  alpha=2, beta = 1)\n",
    "learn.metrics = [accuracy]\n",
    "learn.opt_func = partial(optim.Adam, betas=(0.7, 0.99))\n",
    "#VERY IMPORTANT TO LOAD ENCODER\n",
    "learn.load_encoder('wongnai_enc_lstm')"
   ]
  },
  {
   "cell_type": "code",
   "execution_count": 31,
   "metadata": {},
   "outputs": [
    {
     "name": "stdout",
     "output_type": "stream",
     "text": [
      "LR Finder is complete, type {learner_name}.recorder.plot() to see the graph.\n"
     ]
    },
    {
     "data": {
      "image/png": "[encoded data removed]",
      "text/plain": [
       "<Figure size 432x288 with 1 Axes>"
      ]
     },
     "metadata": {},
     "output_type": "display_data"
    }
   ],
   "source": [
    "#select max lr\n",
    "learn.lr_find()\n",
    "learn.recorder.plot()"
   ]
  },
  {
   "cell_type": "markdown",
   "metadata": {},
   "source": [
    "### Training"
   ]
  },
  {
   "cell_type": "code",
   "execution_count": null,
   "metadata": {},
   "outputs": [],
   "source": [
    "#frozen\n",
    "lr = 0.01\n",
    "learn.freeze_to(-1)\n",
    "learn.fit_one_cycle(cyc_len = 10, \n",
    "                    max_lr= slice(lr/(2.6**4),lr), #learning rate\n",
    "                    div_factor=10, #factor to discount from max\n",
    "                    moms = (0.8, 0.7), #momentums\n",
    "                    pct_start = 0.1, #where the peak is at \n",
    "                    wd = 1e-7\n",
    "                   ) \n",
    "learn.save('frozen')"
   ]
  },
  {
   "cell_type": "raw",
   "metadata": {},
   "source": [
    "epoch      trn_loss   val_loss   accuracy   \n",
    "    0      1.03257    1.014478   0.531256  \n",
    "    1      1.019011   0.968788   0.566125  \n",
    "    2      1.045126   0.976428   0.558807  \n",
    "    3      1.032724   1.164531   0.509732  \n",
    "    4      1.0261     0.953859   0.549482  \n",
    "    5      1.026541   0.950932   0.559384  \n",
    "    6      1.006381   0.951118   0.564206  \n",
    "    7      0.975582   0.941487   0.555978  \n",
    "    8      0.987828   0.953995   0.548112  \n",
    "    9      0.987048   0.926532   0.56664   "
   ]
  },
  {
   "cell_type": "code",
   "execution_count": 56,
   "metadata": {},
   "outputs": [],
   "source": [
    "#gradual unfreeze 1\n",
    "learn.load('frozen')\n",
    "learn.freeze_to(-2)\n",
    "learn.fit_one_cycle(cyc_len = 3, \n",
    "                    max_lr= slice(lr/(2.6**4),lr), #learning rate\n",
    "                    div_factor=8, #factor to discount from max\n",
    "                    moms = (0.8, 0.7), #momentums\n",
    "                    pct_start = 0.3, #where the peak is at \n",
    "                    wd = 1e-7\n",
    "                   ) \n",
    "learn.save('unfreeze_1')"
   ]
  },
  {
   "cell_type": "raw",
   "metadata": {},
   "source": [
    "epoch      trn_loss   val_loss   accuracy   \n",
    "    0      0.964691   0.899958   0.58868   \n",
    "    1      0.911452   0.863991   0.61303   \n",
    "    2      0.812086   0.855272   0.626525  "
   ]
  },
  {
   "cell_type": "markdown",
   "metadata": {},
   "source": [
    "## Validation Performance"
   ]
  },
  {
   "cell_type": "code",
   "execution_count": 23,
   "metadata": {},
   "outputs": [],
   "source": [
    "learn.load('unfreeze_1')\n",
    "#get validation performance\n",
    "probs,y= learn.get_preds()\n",
    "probs = probs.numpy()\n",
    "y = y.numpy()\n",
    "preds = np.argmax(probs,1)"
   ]
  },
  {
   "cell_type": "code",
   "execution_count": 36,
   "metadata": {},
   "outputs": [
    {
     "data": {
      "text/plain": [
       "[4, 3, 2, 5, 1]"
      ]
     },
     "execution_count": 36,
     "metadata": {},
     "output_type": "execute_result"
    }
   ],
   "source": [
    "data_clas.y.classes"
   ]
  },
  {
   "cell_type": "code",
   "execution_count": 31,
   "metadata": {},
   "outputs": [],
   "source": [
    "#index to class\n",
    "y = np.array([data_clas.train_ds.y.classes[i] for i in y])\n",
    "preds = np.array([data_clas.train_ds.y.classes[i] for i in preds])"
   ]
  },
  {
   "cell_type": "code",
   "execution_count": 34,
   "metadata": {},
   "outputs": [],
   "source": [
    "#plotting\n",
    "def plot_confusion_matrix(cm, classes,\n",
    "                          normalize=False,\n",
    "                          title='Confusion matrix',\n",
    "                          cmap=plt.cm.Blues):\n",
    "    \"\"\"\n",
    "    This function prints and plots the confusion matrix.\n",
    "    Normalization can be applied by setting `normalize=True`.\n",
    "    \"\"\"\n",
    "    if normalize:\n",
    "        cm = cm.astype('float') / cm.sum(axis=1)[:, np.newaxis]\n",
    "        print(\"Normalized confusion matrix\")\n",
    "    else:\n",
    "        print('Confusion matrix, without normalization')\n",
    "\n",
    "    print(cm)\n",
    "\n",
    "    plt.imshow(cm, interpolation='nearest', cmap=cmap)\n",
    "    plt.title(title)\n",
    "    plt.colorbar()\n",
    "    tick_marks = np.arange(len(classes))\n",
    "    plt.xticks(tick_marks, classes, rotation=45)\n",
    "    plt.yticks(tick_marks, classes)\n",
    "\n",
    "    fmt = '.2f' if normalize else 'd'\n",
    "    thresh = cm.max() / 2.\n",
    "    for i, j in itertools.product(range(cm.shape[0]), range(cm.shape[1])):\n",
    "        plt.text(j, i, format(cm[i, j], fmt),\n",
    "                 horizontalalignment=\"center\",\n",
    "                 color=\"white\" if cm[i, j] > thresh else \"black\")\n",
    "\n",
    "    plt.tight_layout()\n",
    "    plt.ylabel('True label')\n",
    "    plt.xlabel('Predicted label')"
   ]
  },
  {
   "cell_type": "code",
   "execution_count": null,
   "metadata": {},
   "outputs": [],
   "source": [
    "from sklearn.metrics import confusion_matrix\n",
    "from sklearn.metrics import fbeta_score\n",
    "\n",
    "most_frequent = np.array([0]*len(preds))\n",
    "print(f'Baseline Micro F1: {fbeta_score(y,most_frequent,1,average=\"micro\")}')\n",
    "print(f'Micro F1: {fbeta_score(y,preds,1,average=\"micro\")}')\n",
    "cm = confusion_matrix(y,preds)\n",
    "plot_confusion_matrix(cm,classes=[1,2,3,4,5])"
   ]
  },
  {
   "cell_type": "raw",
   "metadata": {},
   "source": [
    "Baseline Micro F1: 0.46\n",
    "Micro F1: 0.5976666666666667\n",
    "Confusion matrix, without normalization\n",
    "[[  14   36   13    1    1]\n",
    " [  13   80  150   22    2]\n",
    " [   5   36  945  814   28]\n",
    " [   0    0  344 2210  230]\n",
    " [   0    1   22  696  337]]"
   ]
  },
  {
   "cell_type": "markdown",
   "metadata": {},
   "source": [
    "## Submission"
   ]
  },
  {
   "cell_type": "code",
   "execution_count": null,
   "metadata": {},
   "outputs": [],
   "source": [
    "probs,y= learner.predict_with_targs(is_test=True)"
   ]
  },
  {
   "cell_type": "code",
   "execution_count": null,
   "metadata": {},
   "outputs": [],
   "source": [
    "preds = np.argmax(np.exp(probs),1) + 1"
   ]
  },
  {
   "cell_type": "code",
   "execution_count": null,
   "metadata": {},
   "outputs": [],
   "source": [
    "Counter(preds)"
   ]
  },
  {
   "cell_type": "code",
   "execution_count": null,
   "metadata": {},
   "outputs": [],
   "source": [
    "submit_df = pd.DataFrame({'a':y,'b':preds})\n",
    "submit_df.columns = ['reviewID','rating']\n",
    "submit_df.head()"
   ]
  },
  {
   "cell_type": "code",
   "execution_count": null,
   "metadata": {},
   "outputs": [],
   "source": [
    "submit_df.to_csv(f'{DATA_PATH}valid15_unfreeze_1.csv',index=False)"
   ]
  },
  {
   "cell_type": "markdown",
   "metadata": {},
   "source": [
    "## Benchmark with FastText"
   ]
  },
  {
   "cell_type": "markdown",
   "metadata": {},
   "source": [
    "We used [fastText](https://github.com/facebookresearch/fastText)'s own [pretrained embeddings](https://github.com/facebookresearch/fastText/blob/master/pretrained-vectors.md) and a relatively \"default\" settings in order to benchmark our results. This gave us the micro-averaged F1 score of 0.50483 and 0.49366 for the public and private leaderboard respectively."
   ]
  },
  {
   "cell_type": "markdown",
   "metadata": {},
   "source": [
    "![alt text](https://github.com/cstorm125/thai2fit/blob/master/images/fasttext.jpg?raw=true)"
   ]
  },
  {
   "cell_type": "markdown",
   "metadata": {},
   "source": [
    "### Data Preparation"
   ]
  },
  {
   "cell_type": "code",
   "execution_count": 33,
   "metadata": {},
   "outputs": [],
   "source": [
    "df_trn = pd.read_csv(f'{DATA_PATH}train.csv',header=None)\n",
    "df_val = pd.read_csv(f'{DATA_PATH}valid.csv',header=None)\n",
    "df_tst = pd.read_csv(f'{DATA_PATH}test.csv', header=None)"
   ]
  },
  {
   "cell_type": "code",
   "execution_count": 34,
   "metadata": {},
   "outputs": [],
   "source": [
    "train_set = []\n",
    "for i in range(df_trn.shape[0]):\n",
    "    label = df_trn.iloc[i,0]\n",
    "    line = df_trn.iloc[i,1].replace('\\n', ' ')\n",
    "    train_set.append(f'__label__{label} {line}')\n",
    "train_doc = '\\n'.join(train_set)\n",
    "with open(f'{DATA_PATH}train.txt','w') as f:\n",
    "    f.write(train_doc)"
   ]
  },
  {
   "cell_type": "code",
   "execution_count": 35,
   "metadata": {},
   "outputs": [],
   "source": [
    "valid_set = []\n",
    "for i in range(df_val.shape[0]):\n",
    "    label = df_val.iloc[i,0]\n",
    "    line = df_val.iloc[i,1].replace('\\n', ' ')\n",
    "    valid_set.append(f'__label__{label} {line}')\n",
    "valid_doc = '\\n'.join(valid_set)\n",
    "with open(f'{DATA_PATH}valid.txt','w') as f:\n",
    "    f.write(valid_doc)"
   ]
  },
  {
   "cell_type": "code",
   "execution_count": 36,
   "metadata": {},
   "outputs": [],
   "source": [
    "test_set = []\n",
    "for i in range(df_tst.shape[0]):\n",
    "    label = df_tst.iloc[i,0]\n",
    "    line = df_tst.iloc[i,1].replace('\\n', ' ')\n",
    "    test_set.append(f'__label__{label} {line}')\n",
    "test_doc = '\\n'.join(test_set)\n",
    "with open(f'{DATA_PATH}test.txt','w') as f:\n",
    "    f.write(test_doc)"
   ]
  },
  {
   "cell_type": "markdown",
   "metadata": {},
   "source": [
    "### Train FastText"
   ]
  },
  {
   "cell_type": "code",
   "execution_count": 39,
   "metadata": {},
   "outputs": [
    {
     "name": "stdout",
     "output_type": "stream",
     "text": [
      "Read 1M words\n",
      "Number of words:  629560\n",
      "Number of labels: 5\n",
      "Progress: 100.0%  words/sec/thread: 513861  lr: 0.000000  loss: 0.571816  eta: 0h0m \n"
     ]
    }
   ],
   "source": [
    "!/home/ubuntu/theFastText/fastText-0.1.0/fasttext supervised -input '{DATA_PATH}train.txt' -pretrainedVectors '{MODEL_PATH}wiki.th.vec' -epoch 10 -dim 300 -wordNgrams 2 -output '{MODEL_PATH}fasttext_model'"
   ]
  },
  {
   "cell_type": "code",
   "execution_count": 40,
   "metadata": {},
   "outputs": [
    {
     "name": "stdout",
     "output_type": "stream",
     "text": [
      "N\t6000\n",
      "P@1\t0.472\n",
      "R@1\t0.472\n",
      "Number of examples: 6000\n"
     ]
    }
   ],
   "source": [
    "!/home/ubuntu/theFastText/fastText-0.1.0/fasttext test '{MODEL_PATH}fasttext_model.bin' '{DATA_PATH}valid.txt'"
   ]
  },
  {
   "cell_type": "code",
   "execution_count": 41,
   "metadata": {},
   "outputs": [],
   "source": [
    "preds = !/home/ubuntu/theFastText/fastText-0.1.0/fasttext predict '{MODEL_PATH}fasttext_model.bin' '{DATA_PATH}test.txt'"
   ]
  },
  {
   "cell_type": "markdown",
   "metadata": {},
   "source": [
    "### Submission"
   ]
  },
  {
   "cell_type": "code",
   "execution_count": null,
   "metadata": {},
   "outputs": [],
   "source": [
    "submit_df = pd.DataFrame({'a':[i+1 for i in range(len(preds))],'b':preds})\n",
    "submit_df.columns = ['reviewID','rating']\n",
    "submit_df['rating'] = submit_df['rating'].apply(lambda x: x.split('__')[2])\n",
    "submit_df.head()"
   ]
  },
  {
   "cell_type": "code",
   "execution_count": null,
   "metadata": {},
   "outputs": [],
   "source": [
    "submit_df.to_csv(f'{DATA_PATH}fasttext.csv',index=False)"
   ]
  }
 ],
 "metadata": {
  "kernelspec": {
   "display_name": "Python 3",
   "language": "python",
   "name": "python3"
  },
  "language_info": {
   "codemirror_mode": {
    "name": "ipython",
    "version": 3
   },
   "file_extension": ".py",
   "mimetype": "text/x-python",
   "name": "python",
   "nbconvert_exporter": "python",
   "pygments_lexer": "ipython3",
   "version": "3.6.6"
  }
 },
 "nbformat": 4,
 "nbformat_minor": 2
}
