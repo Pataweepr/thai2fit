{
 "cells": [
  {
   "cell_type": "markdown",
   "metadata": {},
   "source": [
    "# Thai2fit Language Model Pre-training\n",
    "\n",
    "The goal of this notebook is to train a language model using the [fast.ai](http://www.fast.ai/) version of [AWD LSTM Language Model](https://arxiv.org/abs/1708.02182), with data from [Thai Wikipedia Dump](https://dumps.wikimedia.org/thwiki/latest/thwiki-latest-pages-articles.xml.bz2) last updated February 17, 2019. Using 40M/200k/200k tokens of train-validation-test split, we achieved validation perplexity of **51.6376 with 60,003 embeddings at 400 dimensions**, compared to state-of-the-art as of October 27, 2018 at **42.41 for English WikiText-2 by [Yang et al (2018)](https://arxiv.org/abs/1711.03953)**. To the best of our knowledge, there is no comparable research in Thai language at the point of writing (February 17, 2019).\n",
    "\n",
    "Our workflow is as follows:\n",
    "\n",
    "* Retrieve and process [Thai Wikipedia Dump](https://dumps.wikimedia.org/thwiki/latest/thwiki-latest-pages-articles.xml.bz2) according to [n-waves/ulmfit-multilingual](https://github.com/n-waves/ulmfit-multilingual)\n",
    "* Perform 40M/200k/200k tokens of train-validation-test split split\n",
    "* Minimal text cleaning and tokenization using `newmm` with frozen dictionary (`engine='ulmfit'`) of [pyThaiNLP](https://github.com/pyThaiNLP/pythainlp/)\n",
    "* Train language model\n",
    "* Evaluate model based on perplexity and eyeballing\n",
    "* Extract embeddings to use as \"word2vec\""
   ]
  },
  {
   "cell_type": "markdown",
   "metadata": {},
   "source": [
    "## Imports"
   ]
  },
  {
   "cell_type": "code",
   "execution_count": 1,
   "metadata": {
    "ExecuteTime": {
     "end_time": "2018-01-25T03:30:25.407566Z",
     "start_time": "2018-01-25T03:30:21.597641Z"
    }
   },
   "outputs": [],
   "source": [
    "%reload_ext autoreload\n",
    "%autoreload 2\n",
    "%matplotlib inline\n",
    "\n",
    "from fastai import *    \n",
    "from fastai.text import * \n",
    "from fastai.callbacks import CSVLogger\n",
    "\n",
    "data_path = 'th-all-unk/'\n",
    "model_path = 'thwiki_data/'"
   ]
  },
  {
   "cell_type": "markdown",
   "metadata": {},
   "source": [
    "## Text Cleaning"
   ]
  },
  {
   "cell_type": "markdown",
   "metadata": {},
   "source": [
    "We follow the dataset creation, pre- and post-processing of [n-waves/ulmfit-multilingual](https://github.com/n-waves/ulmfit-multilingual):\n",
    "\n",
    "* `ulmfit/create_wikitext.py` - Download thwiki in json format and separate them into 40M/200k/200k tokens of train-validation-test split. Articles with least than 100 tokens are removed. Also perform tokenization with whitespaces as separators.\n",
    "* `ulmfit/postprocess_wikitext.py` - Replace numbers and replace out-of-vocabulary tokens with `xxunk` (frequency of less than 3).\n",
    "\n",
    "We replaced the Moses Tokenizer with the following code to use [pyThaiNLP](https://github.com/pyThaiNLP/pythainlp/)'s `newmm` dictionary-based tokenizer with a frozen dictionary instead. We join the tokens within an article together to be tokenized later by the data bunch."
   ]
  },
  {
   "cell_type": "code",
   "execution_count": 2,
   "metadata": {},
   "outputs": [],
   "source": [
    "from pythainlp.tokenize import word_tokenize\n",
    "class ThaiNLPTokenizer:\n",
    "    def __init__(self,engine='ulmfit'):\n",
    "        self.engine='ulmfit'\n",
    "    def tokenize(self, t, return_str=True):\n",
    "        res = word_tokenize(t,self.engine)\n",
    "        return ' '.join(res) if return_str else res"
   ]
  },
  {
   "cell_type": "markdown",
   "metadata": {},
   "source": [
    "Here is the statistics of the dataset:\n",
    "\n",
    "```\n",
    "before postprocessing\n",
    "# documents: 121,027. # tokens: 39,378,410\n",
    "\n",
    "after postprocessing\n",
    "OOV ratio: 0.0042\n",
    "data/wiki/th-all vocab size: 111,224\n",
    "th.wiki.train.tokens. # of tokens: 41,482,435\n",
    "th.wiki.valid.tokens. # of tokens: 200,563\n",
    "th.wiki.test.tokens. # of tokens: 200,827\n",
    "```"
   ]
  },
  {
   "cell_type": "code",
   "execution_count": 9,
   "metadata": {},
   "outputs": [],
   "source": [
    "#snippet from https://github.com/n-waves/ulmfit-multilingual/blob/master/ulmfit/pretrain_lm.py\n",
    "def istitle(line):\n",
    "    return len(re.findall(r'^ ?= [^=]* = ?$', line)) != 0\n",
    "\n",
    "def read_wiki_articles(filename):\n",
    "    articles = []\n",
    "    with open(filename, encoding='utf8') as f:\n",
    "        lines = f.readlines()\n",
    "    current_article = []\n",
    "    for i,line in enumerate(lines):\n",
    "        current_article.append(line)\n",
    "        if i < len(lines)-2 and lines[i+1].strip() == \"\" and istitle(lines[i+2]):\n",
    "            articles.append(\"\".join(current_article))\n",
    "            current_article = []\n",
    "    articles.append(\"\".join(current_article))\n",
    "    print(f\"Wiki text was split to {len(articles)} articles\")\n",
    "    return pd.DataFrame({'texts': np.array(articles, dtype=np.object)})"
   ]
  },
  {
   "cell_type": "code",
   "execution_count": 10,
   "metadata": {},
   "outputs": [
    {
     "name": "stdout",
     "output_type": "stream",
     "text": [
      "Wiki text was split to 53308 articles\n",
      "Wiki text was split to 315 articles\n",
      "Wiki text was split to 268 articles\n"
     ]
    },
    {
     "data": {
      "text/plain": [
       "((53307, 1), (314, 1), (267, 1))"
      ]
     },
     "execution_count": 10,
     "metadata": {},
     "output_type": "execute_result"
    }
   ],
   "source": [
    "#last line is corrupted\n",
    "train_df = read_wiki_articles(f'{data_path}th.wiki.train.tokens').iloc[:-1,:]\n",
    "valid_df = read_wiki_articles(f'{data_path}th.wiki.valid.tokens').iloc[:-1,:]\n",
    "test_df = read_wiki_articles(f'{data_path}th.wiki.test.tokens').iloc[:-1,:]\n",
    "train_df.shape, valid_df.shape, test_df.shape"
   ]
  },
  {
   "cell_type": "code",
   "execution_count": 14,
   "metadata": {},
   "outputs": [],
   "source": [
    "#join tokens together\n",
    "train_df['texts'] = train_df.texts.map(lambda x: ''.join(x.split()))\n",
    "valid_df['texts'] = valid_df.texts.map(lambda x: ''.join(x.split()))\n",
    "test_df['texts'] = test_df.texts.map(lambda x: ''.join(x.split()))"
   ]
  },
  {
   "cell_type": "markdown",
   "metadata": {},
   "source": [
    "## Data Preparation\n",
    "\n",
    "We used the `newmm` engine of `pyThaiNLP` to perform tokenization. Out of randomnum tokens from all of training set, we chose 60,000 embeddings (plus two for unknown and padding) of tokens which appeared more than twice (not typos) in the training set.\n",
    "\n",
    "\n",
    "We perform the following text processing:\n",
    "\n",
    "* Fix html tags to plain texts\n",
    "* Lowercase all English words and if a word is written in all caps, we put it in a lower case and add `xxup` before\n",
    "* Repetitive characters: Thai usually emphasizes adjectives by repeating the last character such as `อร่อยมากกกกกกก` to `อร่อยมาก xxrep 7 ` so that the word still retains its original form. \n",
    "* Normalize character order: for instance `นำ้` to `น้ำ`\n",
    "* Add spaces around / and #\n",
    "* Remove multiple spaces and newlines\n",
    "* Remove empty brackets of all types (`([{`) which might result from cleaning up\n",
    "* `pyThaiNLP`'s `newmm` word tokenizer with frozen dictionary (`engine ='ulmfit'`)  is used to tokenize the texts."
   ]
  },
  {
   "cell_type": "markdown",
   "metadata": {},
   "source": [
    "### Thai Tokenizer"
   ]
  },
  {
   "cell_type": "markdown",
   "metadata": {},
   "source": [
    "We use the `newmm` tokenizer with a dictionary frozen as of 2018-10-23."
   ]
  },
  {
   "cell_type": "code",
   "execution_count": 16,
   "metadata": {
    "ExecuteTime": {
     "end_time": "2018-01-24T15:50:02.035245Z",
     "start_time": "2018-01-24T15:50:01.940191Z"
    }
   },
   "outputs": [
    {
     "data": {
      "text/plain": [
       "['วิทยาศาสตร์',\n",
       " 'ดาวเคราะห์',\n",
       " 'เป็น',\n",
       " 'สาขาวิชา',\n",
       " 'ที่',\n",
       " 'ศึกษา',\n",
       " 'เกี่ยวกับ',\n",
       " 'องค์ประกอบ',\n",
       " 'ของ',\n",
       " 'ดาวเคราะห์']"
      ]
     },
     "execution_count": 16,
     "metadata": {},
     "output_type": "execute_result"
    }
   ],
   "source": [
    "text='วิทยาศาสตร์ดาวเคราะห์เป็นสาขาวิชาที่ศึกษาเกี่ยวกับองค์ประกอบของดาวเคราะห์'\n",
    "a = word_tokenize(text,engine='ulmfit')\n",
    "a"
   ]
  },
  {
   "cell_type": "code",
   "execution_count": 40,
   "metadata": {},
   "outputs": [],
   "source": [
    "#integrated into pythainlp.ulmfit.utils\n",
    "from fastai.text.transform import *\n",
    "from pythainlp.tokenize import word_tokenize\n",
    "from pythainlp.util import normalize as normalize_char_order\n",
    "\n",
    "class ThaiTokenizer(BaseTokenizer):\n",
    "    \"Wrapper around a newmm tokenizer to make it a `BaseTokenizer`.\"\n",
    "    def __init__(self, lang = 'th'):\n",
    "        self.lang = lang\n",
    "    def tokenizer(self, t):\n",
    "        return(word_tokenize(t,engine='ulmfit'))\n",
    "    def add_special_cases(self, toks):\n",
    "        pass\n",
    "    \n",
    "def replace_rep_after(t):\n",
    "    \"Replace repetitions at the character level in `t` after the repetition\"\n",
    "    def _replace_rep(m):\n",
    "        c,cc = m.groups()\n",
    "        return f'{c} {TK_REP} {len(cc)+1} '\n",
    "    re_rep = re.compile(r'(\\S)(\\1{3,})')\n",
    "    return re_rep.sub(_replace_rep, t)\n",
    "\n",
    "def rm_useless_newlines(t):\n",
    "    \"Remove multiple newlines in `t`.\"\n",
    "    return re.sub('[\\n]{2,}', ' ', t)\n",
    "\n",
    "def rm_brackets(t):\n",
    "    \"Remove all empty brackets from `t`.\"\n",
    "    new_line = re.sub('\\(\\)','',t)\n",
    "    new_line = re.sub('\\{\\}','',new_line)\n",
    "    new_line = re.sub('\\[\\]','',new_line)\n",
    "    return(new_line)\n",
    "\n",
    "#in case we want to add more specific rules for thai\n",
    "pre_rules_th = [fix_html, replace_rep_after, normalize_char_order, \n",
    "                spec_add_spaces, rm_useless_spaces, rm_useless_newlines, rm_brackets]\n",
    "post_rules_th = [replace_all_caps, deal_caps]"
   ]
  },
  {
   "cell_type": "markdown",
   "metadata": {},
   "source": [
    "### Data Bunch"
   ]
  },
  {
   "cell_type": "markdown",
   "metadata": {},
   "source": [
    "We trained the language model based on 40M/200k/200k tokens of train-validation-test split from [Thai Wikipedia Dump](https://dumps.wikimedia.org/thwiki/latest/thwiki-latest-pages-articles.xml.bz2). Tokens are generated and numericalized filtering all words with frequency more than 3 and at maximum vocab size of 60,000 (plus unknown and padding tokens)."
   ]
  },
  {
   "cell_type": "code",
   "execution_count": 41,
   "metadata": {},
   "outputs": [],
   "source": [
    "tt = Tokenizer(tok_func = ThaiTokenizer, lang = 'th', pre_rules = pre_rules_th, post_rules=post_rules_th)\n",
    "processor = [TokenizeProcessor(tokenizer=tt, chunksize=10000, mark_fields=False),\n",
    "            NumericalizeProcessor(vocab=None, max_vocab=60000, min_freq=3)]"
   ]
  },
  {
   "cell_type": "code",
   "execution_count": 23,
   "metadata": {},
   "outputs": [],
   "source": [
    "# data = (ItemLists(model_path, \n",
    "#     TextList.from_df(train_df, model_path, cols=['texts'], processor=processor),\n",
    "#     TextList.from_df(valid_df, model_path, cols=['texts'], processor=processor))\n",
    "#     .label_for_lm()\n",
    "#     .add_test(TextList.from_df(test_df, model_path, cols=['texts'], processor=processor))\n",
    "#     .databunch(bs=64))\n",
    "# data.sanity_check()\n",
    "# data.save('thwiki_lm_data.pkl')"
   ]
  },
  {
   "cell_type": "code",
   "execution_count": 10,
   "metadata": {},
   "outputs": [
    {
     "data": {
      "text/plain": [
       "(53307, 314, 267)"
      ]
     },
     "execution_count": 10,
     "metadata": {},
     "output_type": "execute_result"
    }
   ],
   "source": [
    "data = load_data(model_path,'thwiki_lm_data.pkl')\n",
    "data.sanity_check()\n",
    "len(data.train_ds), len(data.valid_ds), len(data.test_ds)"
   ]
  },
  {
   "cell_type": "code",
   "execution_count": 28,
   "metadata": {},
   "outputs": [
    {
     "data": {
      "text/html": [
       "<table border=\"1\" class=\"dataframe\">\n",
       "  <thead>\n",
       "    <tr style=\"text-align: right;\">\n",
       "      <th>idx</th>\n",
       "      <th>text</th>\n",
       "    </tr>\n",
       "  </thead>\n",
       "  <tbody>\n",
       "    <tr>\n",
       "      <td>0</td>\n",
       "      <td>คือ พ.ศ. 2412 ) เป็น พระราชธิดา พระองค์ สุดท้าย ใน พระ บาท สมเด็จ พระ จอมเกล้า เจ้า อยู่ หัว ประสูติ แต่ จ้า จอมมารดา ห่วง ธิดา ขุน เทพ ฯ กับ เก ษ มี พระ เชษฐ ภคินี พระ เชษฐา ร่วม เจ้าจอมมารดา เดียวกัน 2 พระองค์ คือ พระเจ้า บรมวงศ์ เธอ พระองค์ เจ้า บุษบัน บัว ผัน และ พระเจ้า บรมวงศ์ เธอ พระองค์ เจ้า ไช ยัน ตม งคล กรมหมื่น มหิศร ราช หฤทัย พระองค์ ประสูติ หลัง สมเด็จ พระ บรม ชนก</td>\n",
       "    </tr>\n",
       "    <tr>\n",
       "      <td>1</td>\n",
       "      <td>มานัต = ลัก ซอ ร์= ลัก ซอ ร์ ลัก ซอ ร์(;) เป็น นคร ในประเทศ อียิปต์ เป็น เมืองหลวง ของ เขต ผู้ว่า การลัก ซอ ร์ มี ประชากร 487 @,@ 896 คน ( ค.ศ. 2010 ) เมือง มี พื้นที่ ราว 416 ตร. กม. ( 161 ตร. ไมล์ ) เป็น สถาน ที่ตั้ง ของ เมือง อียิปต์ โบราณ เมือง ที บส์ อาจ กล่าว ได้ ว่า เป็น \" พิพิธภัณฑ์ เปิด โล่ง ที่ ใหญ่ ที่สุด ของ โลก \"</td>\n",
       "    </tr>\n",
       "    <tr>\n",
       "      <td>2</td>\n",
       "      <td>จาก การ ทำความเข้าใจ ธรรมชาติ ของ xxunk ใน เชิง เคมี ทำให้ แพทย์ สามารถ ค้นพบ วิธี การรักษา โรคติดต่อ ได้การ สนับสนุน ทางการแพทย์ . แพ รา เซ ลซัส เป็น ผู้ริเริ่ม การ ใช้ แร่ธาตุ และ สารเคมี ใน ทางการแพทย์ ใน ทาง ลึกลับ เขา มองว่า โรคภัยไข้เจ็บ และ สุขภาพ นั้น ขึ้นอยู่กับ ความ ลงตัว ของ มนุษย์ และ ธรรมชาติ เขา ใช้ วิธี ที่ แตกต่าง ไป จาก คนอื่น ก่อนหน้านี้ การ ใช้การ เปรียบเทียบ นี้ ไม่ได้ อยู่ ใน ลักษณะ ของ จิตวิญญาณ บริสุทธิ์ แต่</td>\n",
       "    </tr>\n",
       "    <tr>\n",
       "      <td>3</td>\n",
       "      <td>ส์ 3 แอม บิ ชัน ส์= เดอะ ซิม ส์ 3 แอม บิ ชัน ส์ เดอะ ซิม ส์ 3 แอม บิ ชัน ส์ เป็น ภาค เสริม ตัว ที่ 2 ของ เกม เดอะ ซิม ส์ 3 สำหรับ ประเทศไทย มี การ วาง จำหน่าย ใน วันที่ 1 มิถุนายน พ.ศ. 2553 \"' เดอะ ซิม ส์ 3 แอม บิ ชัน ส์\" มา พร้อมกับ โหมด ใหม่ ซึ่ง ผู้ เล่น สามารถ เข้า ไปดู และ ควบคุม การทำงาน ของ ชาว</td>\n",
       "    </tr>\n",
       "    <tr>\n",
       "      <td>4</td>\n",
       "      <td>อื่น . อักษร แบบ อื่น ของ อิ คือ คะ นะ ขนาดเล็ก xxunkxxunk ใช้ สำหรับ แสดง เสียง ภาษาต่างประเทศ ของ ญี่ปุ่น เช่น xxunk ( วิ ), xxunk (ค วิ ), xxunk ( ซิ ), xxunkxxunkxxunk ( ดิ ), xxunkxxunk หรือ ใช้ สำหรับ ลากเสียง สระ อิ ให้ ยาว ขึ้น เป็น อี ภาษา ไอ นุ ใช้ คะ ตะ กะ นะ ขนาดเล็ก xxunk เป็น พยัญชนะ สะกด เหมือน การ สะกด ด้วย - ย และ อ่าน ออกเสียง</td>\n",
       "    </tr>\n",
       "  </tbody>\n",
       "</table>"
      ],
      "text/plain": [
       "<IPython.core.display.HTML object>"
      ]
     },
     "metadata": {},
     "output_type": "display_data"
    }
   ],
   "source": [
    "data.show_batch(5)"
   ]
  },
  {
   "cell_type": "code",
   "execution_count": 25,
   "metadata": {},
   "outputs": [
    {
     "data": {
      "text/plain": [
       "[tensor([[    2,    42,    36,  ..., 13392,    57,    31],\n",
       "         [   24,   627,    30,  ...,   312,   565,    13],\n",
       "         [   11,   266,    25,  ...,  3390,    10,    21],\n",
       "         ...,\n",
       "         [ 3166, 14325,    34,  ...,  2759,    12,  2057],\n",
       "         [  519,    20,     9,  ...,   115, 10305,    10],\n",
       "         [ 7289,   187,   321,  ...,    16, 10132, 10132]], device='cuda:0'),\n",
       " tensor([[   42,    36,  5499,  ...,    57,    31,    56],\n",
       "         [  627,    30,   160,  ...,   565,    13,  6010],\n",
       "         [  266,    25,  1380,  ...,    10,    21,  3993],\n",
       "         ...,\n",
       "         [14325,    34, 25768,  ...,    12,  2057, 12467],\n",
       "         [   20,     9,   316,  ..., 10305,    10,    48],\n",
       "         [  187,   321,    78,  ..., 10132, 10132, 30111]], device='cuda:0')]"
      ]
     },
     "execution_count": 25,
     "metadata": {},
     "output_type": "execute_result"
    }
   ],
   "source": [
    "next(iter(data.test_dl))"
   ]
  },
  {
   "cell_type": "code",
   "execution_count": 31,
   "metadata": {},
   "outputs": [],
   "source": [
    "# pickle.dump(data.vocab.itos, open(f'{model_path}models/thwiki_itos.pkl','wb'))"
   ]
  },
  {
   "cell_type": "markdown",
   "metadata": {},
   "source": [
    "### Vocab"
   ]
  },
  {
   "cell_type": "code",
   "execution_count": 32,
   "metadata": {},
   "outputs": [
    {
     "data": {
      "text/plain": [
       "[10616, 7258, 1339]"
      ]
     },
     "execution_count": 32,
     "metadata": {},
     "output_type": "execute_result"
    }
   ],
   "source": [
    "vocab_lm = data.vocab\n",
    "vocab_lm.numericalize(word_tokenize('สวัสดีครับพี่น้อง', engine='ulmfit'))"
   ]
  },
  {
   "cell_type": "code",
   "execution_count": 33,
   "metadata": {},
   "outputs": [
    {
     "data": {
      "text/plain": [
       "'สวัสดี ครับ พี่น้อง'"
      ]
     },
     "execution_count": 33,
     "metadata": {},
     "output_type": "execute_result"
    }
   ],
   "source": [
    "vocab_lm.textify([10616, 7258, 1339])"
   ]
  },
  {
   "cell_type": "markdown",
   "metadata": {},
   "source": [
    "## Language Modeling\n",
    "\n",
    "We train the language model according to the [ULMFit paper](https://arxiv.org/abs/1801.06146). We use the name hyperparameters as [n-waves/ulmfit-multilingual](https://github.com/n-waves/ulmfit-multilingual)."
   ]
  },
  {
   "cell_type": "code",
   "execution_count": 34,
   "metadata": {},
   "outputs": [],
   "source": [
    "config = dict(emb_sz=400, n_hid=1550, n_layers=4, pad_token=1, qrnn=False, tie_weights=True, out_bias=True,\n",
    "             output_p=0.25, hidden_p=0.1, input_p=0.2, embed_p=0.02, weight_p=0.15)\n",
    "trn_args = dict(drop_mult=0.9, clip=0.12, alpha=2, beta=1)\n",
    "\n",
    "learn = language_model_learner(data, AWD_LSTM, config=config, pretrained=False, **trn_args)\n",
    "learn.opt_fn = partial(optim.Adam, betas=(0.8, 0.99))\n",
    "learn.callback_fns += [partial(CSVLogger, filename=f\"{model_path}/logs\")]"
   ]
  },
  {
   "cell_type": "code",
   "execution_count": 35,
   "metadata": {},
   "outputs": [
    {
     "data": {
      "text/html": [],
      "text/plain": [
       "<IPython.core.display.HTML object>"
      ]
     },
     "metadata": {},
     "output_type": "display_data"
    },
    {
     "name": "stdout",
     "output_type": "stream",
     "text": [
      "LR Finder is complete, type {learner_name}.recorder.plot() to see the graph.\n",
      "Min numerical gradient: 2.09E-03\n"
     ]
    },
    {
     "data": {
      "image/png": "[encoded data removed]",
      "text/plain": [
       "<Figure size 432x288 with 1 Axes>"
      ]
     },
     "metadata": {
      "needs_background": "light"
     },
     "output_type": "display_data"
    }
   ],
   "source": [
    "learn.lr_find()\n",
    "learn.recorder.plot()"
   ]
  },
  {
   "cell_type": "code",
   "execution_count": 50,
   "metadata": {},
   "outputs": [],
   "source": [
    "# learn.freeze_to(-1)\n",
    "# learn.fit_one_cycle(1, 1e-2, moms=(0.8, 0.7))"
   ]
  },
  {
   "cell_type": "code",
   "execution_count": null,
   "metadata": {},
   "outputs": [],
   "source": [
    "# learn.unfreeze()\n",
    "# learn.fit_one_cycle(10, 1e-3, moms=(0.8, 0.7))"
   ]
  },
  {
   "cell_type": "markdown",
   "metadata": {},
   "source": [
    "| epoch | train_loss | valid_loss | accuracy |\n",
    "|-------|------------|------------|----------|\n",
    "| 1     | 5.689881   | 5.479321   | 0.176962 |\n",
    "| 2     | 5.14165    | 4.914922   | 0.223256 |\n",
    "| 3     | 4.945699   | 4.661891   | 0.242748 |\n",
    "| 4     | 4.708307   | 4.471861   | 0.261348 |\n",
    "| 5     | 4.636846   | 4.337728   | 0.273785 |\n",
    "| 6     | 4.487616   | 4.237517   | 0.285252 |\n",
    "| 7     | 4.370384   | 4.161622   | 0.293807 |\n",
    "| 8     | 4.291326   | 4.100852   | 0.30109  |\n",
    "| 9     | 4.267814   | 4.071167   | 0.303888 |\n",
    "| 10    | 4.217663   | 4.065733   | 0.304822 |"
   ]
  },
  {
   "cell_type": "code",
   "execution_count": 51,
   "metadata": {},
   "outputs": [],
   "source": [
    "# learn.unfreeze()\n",
    "# learn.fit_one_cycle(10, 1e-3/3, moms=(0.8, 0.7))"
   ]
  },
  {
   "cell_type": "markdown",
   "metadata": {},
   "source": [
    "| epoch | train_loss | valid_loss | accuracy |\n",
    "|-------|------------|------------|----------|\n",
    "| 1     | 4.179729   | 4.052608   | 0.304963 |\n",
    "| 2     | 4.16306    | 4.047963   | 0.305331 |\n",
    "| 3     | 4.184966   | 4.044866   | 0.305482 |\n",
    "| 4     | 4.218517   | 4.023499   | 0.307901 |\n",
    "| 5     | 4.183966   | 4.001536   | 0.310346 |\n",
    "| 6     | 4.165901   | 3.985509   | 0.312516 |\n",
    "| 7     | 4.091527   | 3.966779   | 0.315573 |\n",
    "| 8     | 4.078772   | 3.952682   | 0.317021 |\n",
    "| 9     | 4.020618   | 3.944576   | 0.318096 |\n",
    "| 10    | 4.043382   | 3.94425    | 0.317961 |"
   ]
  },
  {
   "cell_type": "code",
   "execution_count": null,
   "metadata": {},
   "outputs": [],
   "source": [
    "# learn.save('thwiki_lm')\n",
    "# learn.save_encoder('thwiki_enc')"
   ]
  },
  {
   "cell_type": "markdown",
   "metadata": {},
   "source": [
    "### Eyeballing Test\n",
    "We perform eyeballing test by having the model \"fill in the blanks\"."
   ]
  },
  {
   "cell_type": "code",
   "execution_count": 3,
   "metadata": {},
   "outputs": [],
   "source": [
    "from utils import *\n",
    "from fastai import *    \n",
    "from fastai.text import * \n",
    "from fastai.callbacks import CSVLogger\n",
    "data_path = 'th-all-unk/'\n",
    "model_path = 'thwiki_data/'\n",
    "\n",
    "#data\n",
    "data = load_data(model_path,'thwiki_lm_data.pkl')\n",
    "data.sanity_check()\n",
    "\n",
    "#lm\n",
    "config = dict(emb_sz=400, n_hid=1550, n_layers=4, pad_token=1, qrnn=False, tie_weights=True, out_bias=True,\n",
    "             output_p=0.25, hidden_p=0.1, input_p=0.2, embed_p=0.02, weight_p=0.15)\n",
    "trn_args = dict(drop_mult=0.9, clip=0.12, alpha=2, beta=1)\n",
    "\n",
    "learn = language_model_learner(data, AWD_LSTM, config=config, pretrained=False, **trn_args)\n",
    "learn.opt_fn = partial(optim.Adam, betas=(0.8, 0.99))\n",
    "\n",
    "#load weights\n",
    "learn.load('thwiki_lm');"
   ]
  },
  {
   "cell_type": "code",
   "execution_count": 24,
   "metadata": {},
   "outputs": [
    {
     "data": {
      "text/plain": [
       "'สวัสดีครับ พี่น้องเสื้อแดง=รองเท้าแดงเสื้อแดง(อังกฤษ:St.โก้)เป็นภาพยนตร์ไทยแนวตลก-แฟนตาซีออกฉายในปีพ.ศ.2544กำกับโดยยุทธนามุกดาสนิทนำแสดงโดยสันติสุขพรหมศิริ,สุวนันท์คงยิ่ง,สุรชัยจันทิมาธร,บุญชูสกุลเจริญสุข,สุกัญญาวงศ์สวัสดิ์,สุกัญญาไชยศิริ,วิยะดาอุมารินทร์,นิรุตติ์ศิริจรรยา,อุบลรัตน์ปิยะศิริ,สุรชัยจันทิมาธร,รัช'"
      ]
     },
     "execution_count": 24,
     "metadata": {},
     "output_type": "execute_result"
    }
   ],
   "source": [
    "learn.predict('สวัสดีครับ พี่น้องเสื้อ',100, sep='', temperature = 0.5)"
   ]
  },
  {
   "cell_type": "markdown",
   "metadata": {},
   "source": [
    "## Embeddings\n",
    "\n",
    "We extract the embedding layer of the encoder to be used in the same manner as `word2vec`. We can also create sentence vector by summing or averaging the vectors. For more details about `word2vec` use cases, see`word2vec_examples.ipynb`. Note that we use word vectors from `v0.1` since it was trained specifically for the purpose and has comparable dimensions to `fastText` embeddings."
   ]
  },
  {
   "cell_type": "markdown",
   "metadata": {},
   "source": [
    "### Extract"
   ]
  },
  {
   "cell_type": "code",
   "execution_count": 8,
   "metadata": {
    "ExecuteTime": {
     "end_time": "2018-01-24T17:14:19.257675Z",
     "start_time": "2018-01-24T17:14:19.219043Z"
    }
   },
   "outputs": [
    {
     "data": {
      "text/plain": [
       "(60003, 400)"
      ]
     },
     "execution_count": 8,
     "metadata": {},
     "output_type": "execute_result"
    }
   ],
   "source": [
    "#how we extracted the embeddings\n",
    "emb_weights = list(learn.model.named_parameters())[0][1]\n",
    "emb_np = to_np(emb_weights.data)\n",
    "emb_np.shape"
   ]
  },
  {
   "cell_type": "code",
   "execution_count": 33,
   "metadata": {},
   "outputs": [],
   "source": [
    "from gensim.models import KeyedVectors\n",
    "model = KeyedVectors.load_word2vec_format(f'{model_path}models/thai2vec.vec',binary=False,\n",
    "                                         unicode_errors = 'ignore')"
   ]
  },
  {
   "cell_type": "code",
   "execution_count": 35,
   "metadata": {},
   "outputs": [],
   "source": [
    "model.save_word2vec_format(f'{model_path}models/thai2vec.vec',f'{model_path}models/thai2vec.vocab',False)\n",
    "model.save_word2vec_format(f'{model_path}models/thai2vec.bin',None,True)"
   ]
  },
  {
   "cell_type": "markdown",
   "metadata": {},
   "source": [
    "## Document Vectors"
   ]
  },
  {
   "cell_type": "markdown",
   "metadata": {},
   "source": [
    "We can also get document vector from the language model by applying the encoder to a sentence."
   ]
  },
  {
   "cell_type": "code",
   "execution_count": 91,
   "metadata": {},
   "outputs": [],
   "source": [
    "device = torch.device(\"cuda\" if torch.cuda.is_available() else \"cpu\")\n",
    "tt = ThaiTokenizer()\n",
    "def document_vector(ss, learn, data):\n",
    "    s = tt.tokenizer(ss)\n",
    "    t = torch.tensor(data.vocab.numericalize(s), requires_grad=False).to(device)\n",
    "    m = learn.model[0].encoder.to(device)\n",
    "    res = m(t).mean(0).cpu().detach().numpy()\n",
    "    return(res)"
   ]
  },
  {
   "cell_type": "code",
   "execution_count": 93,
   "metadata": {},
   "outputs": [
    {
     "data": {
      "text/plain": [
       "array([ 0.066298,  0.307813,  0.246051,  0.008683, ..., -0.058363,  0.133258, -0.289954, -1.770246], dtype=float32)"
      ]
     },
     "execution_count": 93,
     "metadata": {},
     "output_type": "execute_result"
    }
   ],
   "source": [
    "ss = 'วันนี้วันดีปีใหม่'\n",
    "document_vector(ss,learn,data)"
   ]
  },
  {
   "cell_type": "code",
   "execution_count": 4,
   "metadata": {},
   "outputs": [
    {
     "data": {
      "text/plain": [
       "array([ 0.066298,  0.307813,  0.246051,  0.008683, ..., -0.058363,  0.133258, -0.289954, -1.770246], dtype=float32)"
      ]
     },
     "execution_count": 4,
     "metadata": {},
     "output_type": "execute_result"
    }
   ],
   "source": [
    "from pythainlp.ulmfit import *\n",
    "document_vector('วันนี้วันดีปีใหม่',learn,data)"
   ]
  },
  {
   "cell_type": "code",
   "execution_count": null,
   "metadata": {},
   "outputs": [],
   "source": []
  }
 ],
 "metadata": {
  "kernelspec": {
   "display_name": "Python 3",
   "language": "python",
   "name": "python3"
  },
  "language_info": {
   "codemirror_mode": {
    "name": "ipython",
    "version": 3
   },
   "file_extension": ".py",
   "mimetype": "text/x-python",
   "name": "python",
   "nbconvert_exporter": "python",
   "pygments_lexer": "ipython3",
   "version": "3.6.8"
  }
 },
 "nbformat": 4,
 "nbformat_minor": 2
}
