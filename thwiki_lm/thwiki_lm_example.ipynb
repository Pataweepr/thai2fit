{
 "cells": [
  {
   "cell_type": "markdown",
   "metadata": {},
   "source": [
    "# Thai Wiki Language Model for Text Generation"
   ]
  },
  {
   "cell_type": "markdown",
   "metadata": {},
   "source": [
    "This notebook details how you can use pretrained language model on [Thai Wikipedia Dump](https://dumps.wikimedia.org/thwiki/latest/thwiki-latest-pages-articles.xml.bz2) to generate texts."
   ]
  },
  {
   "cell_type": "code",
   "execution_count": 1,
   "metadata": {},
   "outputs": [],
   "source": [
    "# #uncomment if you are running from google colab\n",
    "# !pip install sklearn_crfsuite\n",
    "# !pip install https://github.com/PyThaiNLP/pythainlp/archive/dev.zip\n",
    "# !pip install fastai==1.0.45"
   ]
  },
  {
   "cell_type": "code",
   "execution_count": 2,
   "metadata": {},
   "outputs": [
    {
     "name": "stdout",
     "output_type": "stream",
     "text": [
      "Download : wiki_lm_lstm\n",
      "re-download\n",
      "from wiki_lm_lstm 0.31 update to wiki_lm_lstm 0.31\n",
      "yes or no (y / n) : y\n"
     ]
    },
    {
     "name": "stderr",
     "output_type": "stream",
     "text": [
      "thwiki_lm.pth?dl=1: 1.05GB [01:28, 11.8MB/s]                                \n"
     ]
    },
    {
     "name": "stdout",
     "output_type": "stream",
     "text": [
      "Download : wiki_itos_lstm\n",
      "re-download\n",
      "from wiki_itos_lstm 0.31 update to wiki_itos_lstm 0.31\n",
      "yes or no (y / n) : y\n"
     ]
    },
    {
     "name": "stderr",
     "output_type": "stream",
     "text": [
      "thwiki_itos.pkl?dl=1: 1.53MB [00:02, 743kB/s]                             \n"
     ]
    }
   ],
   "source": [
    "import pandas as pd\n",
    "import numpy as np\n",
    "from ast import literal_eval\n",
    "from tqdm import tqdm_notebook\n",
    "from collections import Counter\n",
    "import re\n",
    "\n",
    "#viz\n",
    "import matplotlib.pyplot as plt\n",
    "import seaborn as sns\n",
    "\n",
    "#fastai\n",
    "import fastai\n",
    "from fastai.text import *\n",
    "from fastai.callbacks import CSVLogger\n",
    "\n",
    "#pythainlp\n",
    "from pythainlp.ulmfit import *"
   ]
  },
  {
   "cell_type": "code",
   "execution_count": 3,
   "metadata": {},
   "outputs": [],
   "source": [
    "#get dummy data\n",
    "imdb = untar_data(URLs.IMDB_SAMPLE)\n",
    "dummy_df = pd.read_csv(imdb/'texts.csv')\n",
    "\n",
    "#get vocab\n",
    "thwiki_itos = pickle.load(open(_THWIKI_LSTM['itos_fname'],'rb'))\n",
    "thwiki_vocab = fastai.text.transform.Vocab(thwiki_itos)\n",
    "\n",
    "#dummy databunch\n",
    "tt = Tokenizer(tok_func = ThaiTokenizer, lang = 'th', pre_rules = pre_rules_th, post_rules=post_rules_th)\n",
    "processor = [TokenizeProcessor(tokenizer=tt, chunksize=10000, mark_fields=False),\n",
    "            NumericalizeProcessor(vocab=thwiki_vocab, max_vocab=60000, min_freq=3)]\n",
    "data_lm = (TextList.from_df(dummy_df, imdb, cols=['text'], processor=processor)\n",
    "    .random_split_by_pct(0.2)\n",
    "    .label_for_lm()\n",
    "    .databunch(bs=64))\n",
    "\n",
    "\n",
    "data_lm.sanity_check()"
   ]
  },
  {
   "cell_type": "code",
   "execution_count": 4,
   "metadata": {},
   "outputs": [
    {
     "data": {
      "text/plain": [
       "60004"
      ]
     },
     "execution_count": 4,
     "metadata": {},
     "output_type": "execute_result"
    }
   ],
   "source": [
    "#check vocab size\n",
    "len(data_lm.vocab.itos)"
   ]
  },
  {
   "cell_type": "code",
   "execution_count": 5,
   "metadata": {},
   "outputs": [],
   "source": [
    "config = dict(emb_sz=400, n_hid=1550, n_layers=4, pad_token=1, qrnn=False, tie_weights=True, out_bias=True,\n",
    "             output_p=0.25, hidden_p=0.1, input_p=0.2, embed_p=0.02, weight_p=0.15)\n",
    "trn_args = dict(drop_mult=0.9, clip=0.12, alpha=2, beta=1)\n",
    "\n",
    "learn = language_model_learner(data_lm, AWD_LSTM, config=config, pretrained=False, **trn_args)\n",
    "\n",
    "#load pretrained models\n",
    "learn.load_pretrained(**_THWIKI_LSTM)"
   ]
  },
  {
   "cell_type": "code",
   "execution_count": 6,
   "metadata": {},
   "outputs": [
    {
     "data": {
      "text/plain": [
       "'กาลครั้งหนึ่งนานมาแล้ว เกิดอาการปวดศีรษะ ความขัดแย้งในครอบครัว ความถึงแก่อสัญกรรมของบิดามารดา ได้สร้างความตื่นตระหนกให้แก่ลูกหลานมาก โดยเด็กทั้งสองลงท้ายด้วยคำว่า \"แม่\" เข้าด้วยกัน และและคำว่า \"ลูก\" เป็นคำที่มาจากคำว่า \"ลูก\" ในภาษาสันสกฤต หมายถึงแม่ ซึ่งหมายถึงครอบครัว และ \"ความอุดมสมบูรณ์\" \\n \\n \\n \\n =2444 (วงดนตรี)= \\n 2537 (วงดนตรี) \\n \\n สถาบันดนตรี (Music Academy) เป็นคณะแรกในจุฬาลงกรณ์มหาวิทยาลัย ก่อตั้งเมื่อปี พ.ศ. 2514 ในชื่อ \"คณะนิเทศศาสตร์และการบัญชี\" โดยมีผลงานจากริมดวงจันทร์ที่ประสบความสำเร็จอย่างมากทั้งในและนอกประเทศ การเผยแพร่เพลงและวัฒนธรรมของคนไทย และในสื่อต่างๆ ที่เปิดให้ทุกคนในประเทศไทยเข้าใจในดนตรีแนวนี้ เป็นที่รู้จักของผู้ชมทั่วไป และความนิยมในแนวดนตรีที่ไม่เหมือนใคร \\n \\n ประวัติ'"
      ]
     },
     "execution_count": 6,
     "metadata": {},
     "output_type": "execute_result"
    }
   ],
   "source": [
    "learn.predict('กาลครั้งหนึ่งนานมาแล้ว ', 200, temperature=0.8, sep = '')"
   ]
  },
  {
   "cell_type": "code",
   "execution_count": null,
   "metadata": {},
   "outputs": [],
   "source": []
  }
 ],
 "metadata": {
  "kernelspec": {
   "display_name": "Python 3",
   "language": "python",
   "name": "python3"
  },
  "language_info": {
   "codemirror_mode": {
    "name": "ipython",
    "version": 3
   },
   "file_extension": ".py",
   "mimetype": "text/x-python",
   "name": "python",
   "nbconvert_exporter": "python",
   "pygments_lexer": "ipython3",
   "version": "3.6.8"
  }
 },
 "nbformat": 4,
 "nbformat_minor": 2
}
